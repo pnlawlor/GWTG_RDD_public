{
 "cells": [
  {
   "cell_type": "markdown",
   "metadata": {},
   "source": [
    "### Data"
   ]
  },
  {
   "cell_type": "markdown",
   "metadata": {},
   "source": [
    "Effect sizes reported in the literature (from UpToDate):\n",
    "\n",
    "Between 3 and 4.5 hours:\n",
    "* ECASS 3: Favorable outcome in 52% vs 45%.\n",
    "* Pooled data/meta-analysis: Favorable outcome in 35% vs 30%\n",
    "\n",
    "At 4.5 hours:\n",
    "* Pooled data/meta-analysis: Favorable outcome in 33% vs 31%\n",
    "\n",
    "Fuzzy effect in data (Table 4C): \n",
    "* 87% got tPA before 3h cutoff\n",
    "* 73% got tPA after 3h cutoff"
   ]
  },
  {
   "cell_type": "markdown",
   "metadata": {},
   "source": [
    "### Inputs"
   ]
  },
  {
   "cell_type": "code",
   "execution_count": 30,
   "metadata": {
    "collapsed": true
   },
   "outputs": [],
   "source": [
    "alpha = 0.05\n",
    "power = 0.8\n",
    "ratio = 1\n",
    "design_effect = 4\n",
    "treatment_diff = 0.14"
   ]
  },
  {
   "cell_type": "markdown",
   "metadata": {},
   "source": [
    "### Sample size calculator function\n",
    "This is for comparing two proportions"
   ]
  },
  {
   "cell_type": "code",
   "execution_count": 32,
   "metadata": {},
   "outputs": [],
   "source": [
    "import scipy.stats as st\n",
    "import numpy as np\n",
    "\n",
    "def sample_size_2prop(prop1 = 0.5, prop2 = 0.5, alpha = 0.05, power = 0.8, design_effect = 1, treatment_diff = 1):\n",
    "    alpha2 = alpha/2 # For two-sided\n",
    "    z_alpha = st.norm.ppf(alpha2)\n",
    "    z_beta = st.norm.ppf(1-power)\n",
    "    \n",
    "    n = design_effect * (z_alpha + z_beta)**2 * (prop1*(1-prop1) + prop2*(1-prop2)) / (treatment_diff*(prop1-prop2))**2\n",
    "    \n",
    "    return np.around(n).astype(int)"
   ]
  },
  {
   "cell_type": "markdown",
   "metadata": {},
   "source": [
    "### Calculations"
   ]
  },
  {
   "cell_type": "markdown",
   "metadata": {},
   "source": [
    "$p_1 = 0.4, p_2 = 0.45$"
   ]
  },
  {
   "cell_type": "code",
   "execution_count": 33,
   "metadata": {},
   "outputs": [
    {
     "data": {
      "text/plain": [
       "312353"
      ]
     },
     "execution_count": 33,
     "metadata": {},
     "output_type": "execute_result"
    }
   ],
   "source": [
    "sample_size_2prop(prop1 = 0.4, prop2 = 0.45, treatment_diff = treatment_diff, design_effect = design_effect)"
   ]
  },
  {
   "cell_type": "markdown",
   "metadata": {},
   "source": [
    "$p_1 = 0.4, p_2 = 0.5$"
   ]
  },
  {
   "cell_type": "code",
   "execution_count": 34,
   "metadata": {},
   "outputs": [
    {
     "data": {
      "text/plain": [
       "78489"
      ]
     },
     "execution_count": 34,
     "metadata": {},
     "output_type": "execute_result"
    }
   ],
   "source": [
    "sample_size_2prop(prop1 = 0.4, prop2 = 0.5, treatment_diff = treatment_diff, design_effect = design_effect)"
   ]
  },
  {
   "cell_type": "markdown",
   "metadata": {},
   "source": [
    "$p_1 = 0.4, p_2 = 0.42$"
   ]
  },
  {
   "cell_type": "code",
   "execution_count": 35,
   "metadata": {},
   "outputs": [
    {
     "data": {
      "text/plain": [
       "1936591"
      ]
     },
     "execution_count": 35,
     "metadata": {},
     "output_type": "execute_result"
    }
   ],
   "source": [
    "sample_size_2prop(prop1 = 0.4, prop2 = 0.42, treatment_diff = treatment_diff, design_effect = design_effect)"
   ]
  }
 ],
 "metadata": {
  "kernelspec": {
   "display_name": "Python 3",
   "language": "python",
   "name": "python3"
  },
  "language_info": {
   "codemirror_mode": {
    "name": "ipython",
    "version": 3
   },
   "file_extension": ".py",
   "mimetype": "text/x-python",
   "name": "python",
   "nbconvert_exporter": "python",
   "pygments_lexer": "ipython3",
   "version": "3.6.2"
  }
 },
 "nbformat": 4,
 "nbformat_minor": 2
}
